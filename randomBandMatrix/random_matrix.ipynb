{
 "cells": [
  {
   "cell_type": "markdown",
   "metadata": {},
   "source": [
    "## Analyzing the Difference between the two highest eigenvalues of the \"Adjacency Matrix of Band Random Graphs\"\n"
   ]
  },
  {
   "cell_type": "markdown",
   "metadata": {},
   "source": [
    "We first start off by creating a random band matrix with width \"W\""
   ]
  },
  {
   "cell_type": "code",
   "execution_count": 39,
   "metadata": {},
   "outputs": [],
   "source": [
    "# standard imports \n",
    "import numpy as np\n",
    "import matplotlib.pyplot as plt\n",
    "import matplotlib.animation as animation\n",
    "from matplotlib.widgets import Slider, Button\n",
    "from scipy.stats import bernoulli, binom\n",
    "from ipywidgets import *\n",
    "import time\n",
    "import random\n",
    "\n",
    "# creating a random band matrix of size n*n where n is given as input\n",
    "# the band width will be given by w, M(i,j) = 0 if i-j > w or i-j < -w\n",
    "# def random_band_matrix(n, w, p):\n",
    "#     M = np.zeros((n,n))\n",
    "#     for i in range(n):\n",
    "#         for j in range(n):\n",
    "#             if i-j < w and i-j > -w and i!=j:\n",
    "#                 if random.random() < p: # choose a random number within [0,1) and if it is less than p, then set matrix entry to 1, else set to 0\n",
    "#                     M[i,j] = 1\n",
    "#                 else:\n",
    "#                     M[i,j] = 0\n",
    "#                 # M[i,j] = w\n",
    "#     # making the matrix symmetric by and setting the diagonal elements to zero \n",
    "#     for i in range(n):\n",
    "#         for j in range(n):\n",
    "#             if i > j:\n",
    "#                 M[j,i] = M[i,j] \n",
    "#             if i == j:\n",
    "#                 M[i,j] = 0\n",
    "#     return M\n",
    "def random_band_matrix(n,w,p):\n",
    "    M = np.zeros((n,n))\n",
    "    for i in range(n):\n",
    "        for j in range(i+1,n):\n",
    "            # choose either 0 or 1 with probability p in a bernoulli distribution\n",
    "            # sample from the bernoulli distribution and set the entry to 1 if the sample is 1, else set to 0\n",
    "            if random.random() < p:\n",
    "                if abs(i-j) < w:\n",
    "                    M[i,j] = 1\n",
    "                    M[j,i] = 1\n",
    "\n",
    "            \n",
    "    return M\n",
    "\n",
    "            "
   ]
  },
  {
   "cell_type": "markdown",
   "metadata": {},
   "source": [
    "You can test out the Random Band Matrix Generator as well by running the cell below"
   ]
  },
  {
   "cell_type": "code",
   "execution_count": 34,
   "metadata": {},
   "outputs": [
    {
     "data": {
      "text/plain": [
       "array([[0., 1., 0., 0., 0., 0., 0., 0., 0., 0.],\n",
       "       [1., 0., 1., 0., 0., 0., 0., 0., 0., 0.],\n",
       "       [0., 1., 0., 0., 0., 0., 0., 0., 0., 0.],\n",
       "       [0., 0., 0., 0., 0., 0., 0., 0., 0., 0.],\n",
       "       [0., 0., 0., 0., 0., 1., 0., 0., 0., 0.],\n",
       "       [0., 0., 0., 0., 1., 0., 1., 0., 0., 0.],\n",
       "       [0., 0., 0., 0., 0., 1., 0., 1., 0., 0.],\n",
       "       [0., 0., 0., 0., 0., 0., 1., 0., 1., 0.],\n",
       "       [0., 0., 0., 0., 0., 0., 0., 1., 0., 0.],\n",
       "       [0., 0., 0., 0., 0., 0., 0., 0., 0., 0.]])"
      ]
     },
     "execution_count": 34,
     "metadata": {},
     "output_type": "execute_result"
    }
   ],
   "source": [
    "random_band_matrix(10,1,0.5)"
   ]
  },
  {
   "cell_type": "code",
   "execution_count": 35,
   "metadata": {},
   "outputs": [],
   "source": [
    "\n",
    "\n",
    "\n",
    "# find the highest and second highest eigenvalue of the matrix M\n",
    "def find_gap(M):\n",
    "    eigenvalues = np.linalg.eigvals(M) # finding the eigenvalues of the matrix M\n",
    "    eigenvalues.sort() # sorting the eigenvalues in ascending order\n",
    "    e1=eigenvalues[-1] # highest eigenvalue\n",
    "    e2=eigenvalues[-2] # second highest eigenvalue\n",
    "    return 1-e2/e1\n",
    "\n",
    "# take n = 1000 and vary w from 10 to n and store the value of 1-e2/e1 in a list and then plot it vs w"
   ]
  },
  {
   "cell_type": "code",
   "execution_count": 43,
   "metadata": {},
   "outputs": [],
   "source": [
    "from math import sqrt\n",
    "\n",
    "\n",
    "def plot_gap(n):\n",
    "    w_list_1 = [] # will use p = 0.5\n",
    "    w_list_2 = [] # will use p = 0.1\n",
    "    w_list_3 = [] # will use p = 1/sqrt(n)\n",
    "    w_list_4 = [] # will use p = 0.001\n",
    "    w_list_1_average = []\n",
    "    w_list_2_average = []\n",
    "    w_list_3_average = []\n",
    "    w_list_4_average = []\n",
    "    p1=1/sqrt(n) # p = 0.5\n",
    "    for i in range(50):\n",
    "        for w in range(10,n):\n",
    "            M = random_band_matrix(n, w, 0.5)\n",
    "            w_list_1.append(find_gap(M))\n",
    "        w_list_1_average.append(w_list_1)\n",
    "        w_list_1 = []\n",
    "    for i in range(50):\n",
    "        for w in range(10,n):\n",
    "            M = random_band_matrix(n, w, 0.1)\n",
    "            w_list_2.append(find_gap(M))\n",
    "        w_list_2_average.append(w_list_2)\n",
    "        w_list_2 = []\n",
    "    for i in range(50):\n",
    "        for w in range(10,n):\n",
    "            M = random_band_matrix(n, w, p1)\n",
    "            w_list_3.append(find_gap(M))\n",
    "        w_list_3_average.append(w_list_3)\n",
    "        w_list_3 = []\n",
    "    for i in range(50):\n",
    "        for w in range(10,n):\n",
    "            M = random_band_matrix(n, w, 1/n)\n",
    "            w_list_4.append(find_gap(M))\n",
    "        w_list_4_average.append(w_list_3)\n",
    "        w_list_4 = []\n",
    "    w_list_1_average = np.mean(w_list_1_average, axis=0) \n",
    "    w_list_2_average = np.mean(w_list_2_average, axis=0)\n",
    "    w_list_3_average = np.mean(w_list_3_average, axis=0)\n",
    "    w_list_4_average = np.mean(w_list_4_average, axis=0)\n",
    "    \n",
    "    # plot all of them on the same graph \n",
    "    plt.plot(w_list_1_average,color='r',label='p = 0.5')\n",
    "    plt.plot(w_list_2_average,color='g',label='p = 0.2')\n",
    "    plt.plot(w_list_3_average,color='b',label='p = 1/sqrt(n)')\n",
    "    plt.plot(w_list_3_average,color='y',label='p = 1/n')\n",
    "    plt.legend()\n",
    "    plt.show()\n",
    "\n",
    "plot_gap(200)\n",
    "\n",
    "\n",
    "\n",
    "\n",
    "\n",
    "\n",
    "\n"
   ]
  }
 ],
 "metadata": {
  "kernelspec": {
   "display_name": "Python 3.10.5 64-bit",
   "language": "python",
   "name": "python3"
  },
  "language_info": {
   "codemirror_mode": {
    "name": "ipython",
    "version": 3
   },
   "file_extension": ".py",
   "mimetype": "text/x-python",
   "name": "python",
   "nbconvert_exporter": "python",
   "pygments_lexer": "ipython3",
   "version": "3.10.5"
  },
  "orig_nbformat": 4,
  "vscode": {
   "interpreter": {
    "hash": "e7370f93d1d0cde622a1f8e1c04877d8463912d04d973331ad4851f04de6915a"
   }
  }
 },
 "nbformat": 4,
 "nbformat_minor": 2
}
